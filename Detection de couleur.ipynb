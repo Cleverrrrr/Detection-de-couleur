{
 "cells": [
  {
   "cell_type": "markdown",
   "id": "b0a1aaf3-c848-45a8-afb7-9a7490948405",
   "metadata": {},
   "source": [
    "Pour ce projet simple, nous avons besoin de cv2 pour lire l'image que nous voulons traiter, afficher l'image, définir un rappel lorsque la souris est cliquée, obtenir les valeurs RGB pour le pixel cliqué et afficher le nom de la couleur et ses valeurs RGB. Nous voulons également utiliser panda pour lire rapidement le fichier csv qui contient 865 noms de couleurs avec leurs valeurs RGB."
   ]
  },
  {
   "cell_type": "code",
   "execution_count": 1,
   "id": "42e655ec-cf1d-4f71-80ee-f91f77f6e144",
   "metadata": {},
   "outputs": [],
   "source": [
    "import cv2\n",
    "import pandas as pd"
   ]
  },
  {
   "cell_type": "markdown",
   "id": "a758bd4d-f984-4f07-aff7-85bcd8912e4b",
   "metadata": {},
   "source": [
    "lire l'image (spécifiez votre chemin d'image)"
   ]
  },
  {
   "cell_type": "code",
   "execution_count": 10,
   "id": "c6008549-bff1-41ce-9cf8-a7da199494ae",
   "metadata": {},
   "outputs": [],
   "source": [
    "img_path = \"C:/Users/amine/Downloads/8bb30e11-7d17-4bf4-acdc-b0be2f36a3ce.jpg\"\n",
    "img = cv2.imread(img_path)"
   ]
  },
  {
   "cell_type": "markdown",
   "id": "3b864aae-922d-43d7-a508-aa718a2bdfe8",
   "metadata": {},
   "source": [
    "Lire le fichier csv avec pandas et donner des noms à chaque colonne."
   ]
  },
  {
   "cell_type": "code",
   "execution_count": 3,
   "id": "ef8970cc-be30-4749-b5f5-d7f5f06b51a6",
   "metadata": {},
   "outputs": [],
   "source": [
    "index=[\"color\",\"color_name\",\"hex\",\"R\",\"G\",\"B\"]\n",
    "csv = pd.read_csv('C:/Users/amine/desktop/python project/colors.csv', names=index, header=None)"
   ]
  },
  {
   "cell_type": "markdown",
   "id": "cfc17925-709f-494a-8fa1-46a3b8ca6049",
   "metadata": {},
   "source": [
    "Dans l'espace RGB, les couleurs sont codées sur 24 bits, ce qui nous donne 16 581 375 couleurs. Nous ne pouvons pas nommer chacun d'entre eux, dans notre fichier csv, nous n'avons que 865 noms de couleurs. Ainsi, certains valeurs RGB auront le même nom. Ce que nous devons faire maintenant est d'attribuer à chaque valeur RGB un nom. Nous le faisons en calculant la distance de toutes les couleurs et en obtenant la couleur la plus proche."
   ]
  },
  {
   "cell_type": "code",
   "execution_count": 4,
   "id": "54728243-80f8-47f5-ad7a-8f05ca5a8ce7",
   "metadata": {},
   "outputs": [],
   "source": [
    "def getColorName(R,G,B):\n",
    "    minimum = 1000\n",
    "    for i in range(len(csv)):\n",
    "        d = abs(R- int(csv.loc[i,\"R\"])) + abs(G- int(csv.loc[i,\"G\"]))+ abs(B- int(csv.loc[i,\"B\"]))\n",
    "        if(d<minimum):\n",
    "            minimum = d\n",
    "            color_name = csv.loc[i,\"color_name\"]\n",
    "    return color_name"
   ]
  },
  {
   "cell_type": "markdown",
   "id": "90d2c85e-e8f1-4500-8d0a-b80a49554682",
   "metadata": {},
   "source": [
    "certaines variables qui nous aident à savoir si l'utilisateur a cliqué sur l'image (cliqué) et si c'est le cas (cliqué == True) où (xpos, ypos) et quelles sont les valeurs RGB (r, g, b) de ce pixel"
   ]
  },
  {
   "cell_type": "code",
   "execution_count": null,
   "id": "4be7bf59-3251-4156-8a6f-ab689907209c",
   "metadata": {},
   "outputs": [],
   "source": [
    "clicked = False\n",
    "r = g = b = xpos = ypos = 0"
   ]
  },
  {
   "cell_type": "markdown",
   "id": "223ef93b-8510-4106-b102-6d85afa1cbe6",
   "metadata": {},
   "source": [
    "une fonction de rappel qui surveille les événements de la souris. Nous nous intéressons uniquement au double clic de la souris. Si cet événement se produit, nous mettons à jour nos variables."
   ]
  },
  {
   "cell_type": "code",
   "execution_count": 16,
   "id": "8a5db8f9-05b6-47ae-9a49-621e5528b528",
   "metadata": {},
   "outputs": [],
   "source": [
    "def draw_function(event, x,y,flags,param):\n",
    "    if event == cv2.EVENT_LBUTTONDBLCLK:\n",
    "        global b,g,r,xpos,ypos, clicked\n",
    "        clicked = True\n",
    "        xpos = x\n",
    "        ypos = y\n",
    "        b,g,r = img[y,x]\n",
    "        b = int(b)\n",
    "        g = int(g)\n",
    "        r = int(r)"
   ]
  },
  {
   "cell_type": "markdown",
   "id": "a03c99dd-c5c9-4c9a-9265-9492bdf87054",
   "metadata": {},
   "source": [
    "Créer une fenêtre pour l'image en définissant une fonction de rappel pour les événements de la souris."
   ]
  },
  {
   "cell_type": "code",
   "execution_count": 18,
   "id": "f2db9bc1-21f8-4f8e-87df-c7100f95a2f6",
   "metadata": {},
   "outputs": [],
   "source": [
    "cv2.namedWindow('color detection')\n",
    "cv2.setMouseCallback('color detection',draw_function)"
   ]
  },
  {
   "cell_type": "markdown",
   "id": "abf43807-4f68-4521-a784-55a11ba65cb2",
   "metadata": {},
   "source": [
    "En utilisant la fonction cv2.imshow(), nous dessinons l'image sur la fenêtre. Lorsque l'utilisateur double-clique sur la fenêtre (cliqué == True), nous dessinons un rectangle (cv.rectangle()) et mettons à jour le nom de la couleur (en utilisant la fonction getColorName) et les valeurs RGB sur la fenêtre."
   ]
  },
  {
   "cell_type": "code",
   "execution_count": null,
   "id": "da2dc4bf-2053-4e30-8ab6-b4a86fe59ba4",
   "metadata": {},
   "outputs": [],
   "source": [
    "while(1):\n",
    "    \n",
    "    cv2.imshow(\"color detection\",img)\n",
    "    if (clicked):\n",
    "        #cv2.rectangle(image, startpoint, endpoint, color, thickness)-1 fills entire rectangle \n",
    "        cv2.rectangle(img,(20,20), (750,60), (b,g,r), -1)\n",
    "        color_name = getColorName(r,g,b) + ' R='+ str(r) +  ' G='+ str(g) +  ' B='+ str(b)\n",
    "        #cv2.putText(img,text,start,font(0-7),fontScale,color,thickness,lineType )\n",
    "        cv2.putText(img, color_name,(50,50),2,0.8,(255,255,255),2,cv2.LINE_AA)\n",
    "        #For very light colours we will display text in black colour\n",
    "        if(r+g+b>=600):\n",
    "            cv2.putText(img, color_name,(50,50),2,0.8,(0,0,0),2,cv2.LINE_AA)\n",
    "            \n",
    "        clicked=False\n",
    "    #when user hit esc\n",
    "    if cv2.waitKey(20) & 0xFF ==27:\n",
    "        break\n",
    "    \n",
    "cv2.destroyAllWindows()"
   ]
  },
  {
   "cell_type": "code",
   "execution_count": 14,
   "id": "fb11054c-2b7d-4777-a981-ddf412865abf",
   "metadata": {},
   "outputs": [],
   "source": []
  },
  {
   "cell_type": "code",
   "execution_count": null,
   "id": "0097f64b-f4e8-4b8a-a1aa-d4173fef4cd6",
   "metadata": {},
   "outputs": [],
   "source": []
  }
 ],
 "metadata": {
  "kernelspec": {
   "display_name": "Python 3 (ipykernel)",
   "language": "python",
   "name": "python3"
  },
  "language_info": {
   "codemirror_mode": {
    "name": "ipython",
    "version": 3
   },
   "file_extension": ".py",
   "mimetype": "text/x-python",
   "name": "python",
   "nbconvert_exporter": "python",
   "pygments_lexer": "ipython3",
   "version": "3.9.7"
  }
 },
 "nbformat": 4,
 "nbformat_minor": 5
}
